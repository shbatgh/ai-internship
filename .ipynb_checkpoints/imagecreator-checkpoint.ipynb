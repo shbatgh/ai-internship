{
 "cells": [
  {
   "cell_type": "code",
   "execution_count": 30,
   "metadata": {},
   "outputs": [],
   "source": [
    "from preprocessing import get_labeled_images, show"
   ]
  },
  {
   "cell_type": "code",
   "execution_count": 31,
   "metadata": {},
   "outputs": [
    {
     "ename": "ValueError",
     "evalue": "invalid literal for int() with base 10: 'cell_imag'",
     "output_type": "error",
     "traceback": [
      "\u001b[0;31m---------------------------------------------------------------------------\u001b[0m",
      "\u001b[0;31mValueError\u001b[0m                                Traceback (most recent call last)",
      "\u001b[1;32m/home/sam/dev/ai-internship/imagecreator.ipynb Cell 2\u001b[0m in \u001b[0;36m<cell line: 1>\u001b[0;34m()\u001b[0m\n\u001b[0;32m----> <a href='vscode-notebook-cell:/home/sam/dev/ai-internship/imagecreator.ipynb#W1sZmlsZQ%3D%3D?line=0'>1</a>\u001b[0m \u001b[39mprint\u001b[39m(get_labeled_images())\n",
      "File \u001b[0;32m~/dev/ai-internship/preprocessing.py:84\u001b[0m, in \u001b[0;36mget_labeled_images\u001b[0;34m()\u001b[0m\n\u001b[1;32m     81\u001b[0m \u001b[39mdef\u001b[39;00m \u001b[39mget_labeled_images\u001b[39m():\n\u001b[1;32m     82\u001b[0m     num_labeled_images \u001b[39m=\u001b[39m \u001b[39m0\u001b[39m\n\u001b[0;32m---> 84\u001b[0m     \u001b[39mfor\u001b[39;00m i \u001b[39min\u001b[39;00m \u001b[39mrange\u001b[39m(\u001b[39mlen\u001b[39m(get_images()\u001b[39m.\u001b[39mimages)):\n\u001b[1;32m     85\u001b[0m         temp_image \u001b[39m=\u001b[39m preprocessing(get_images()\u001b[39m.\u001b[39mimages[i], \u001b[39m40\u001b[39m, \u001b[39m150\u001b[39m)\n\u001b[1;32m     86\u001b[0m         \u001b[39mif\u001b[39;00m num_features(temp_image) \u001b[39m==\u001b[39m num_cells[i]:\n",
      "File \u001b[0;32m~/dev/ai-internship/preprocessing.py:49\u001b[0m, in \u001b[0;36mget_images\u001b[0;34m()\u001b[0m\n\u001b[1;32m     46\u001b[0m \u001b[39mdef\u001b[39;00m \u001b[39mget_images\u001b[39m():\n\u001b[1;32m     47\u001b[0m     images \u001b[39m=\u001b[39m []\n\u001b[0;32m---> 49\u001b[0m     \u001b[39mfor\u001b[39;00m image \u001b[39min\u001b[39;00m \u001b[39mrange\u001b[39m(\u001b[39mlen\u001b[39m(get_images_path())):\n\u001b[1;32m     50\u001b[0m         images\u001b[39m.\u001b[39mappend(np\u001b[39m.\u001b[39marray(Image\u001b[39m.\u001b[39mopen(get_images_path()[image])))\n\u001b[1;32m     52\u001b[0m     \u001b[39mreturn\u001b[39;00m images\n",
      "File \u001b[0;32m~/dev/ai-internship/preprocessing.py:34\u001b[0m, in \u001b[0;36mget_images_path\u001b[0;34m()\u001b[0m\n\u001b[1;32m     32\u001b[0m \u001b[39mfor\u001b[39;00m c, t \u001b[39min\u001b[39;00m \u001b[39menumerate\u001b[39m(images_path):\n\u001b[1;32m     33\u001b[0m     images_path[c] \u001b[39m=\u001b[39m t[:\u001b[39m-\u001b[39m\u001b[39m4\u001b[39m]\n\u001b[0;32m---> 34\u001b[0m     images_path[c] \u001b[39m=\u001b[39m \u001b[39mint\u001b[39;49m(images_path[c])\n\u001b[1;32m     36\u001b[0m images_path\u001b[39m.\u001b[39msort()\n\u001b[1;32m     38\u001b[0m \u001b[39mfor\u001b[39;00m c, t \u001b[39min\u001b[39;00m \u001b[39menumerate\u001b[39m(images_path):\n",
      "\u001b[0;31mValueError\u001b[0m: invalid literal for int() with base 10: 'cell_imag'"
     ]
    }
   ],
   "source": [
    "print(get_labeled_images())"
   ]
  }
 ],
 "metadata": {
  "kernelspec": {
   "display_name": "Python 3 (ipykernel)",
   "language": "python",
   "name": "python3"
  },
  "language_info": {
   "codemirror_mode": {
    "name": "ipython",
    "version": 3
   },
   "file_extension": ".py",
   "mimetype": "text/x-python",
   "name": "python",
   "nbconvert_exporter": "python",
   "pygments_lexer": "ipython3",
   "version": "3.10.6"
  },
  "vscode": {
   "interpreter": {
    "hash": "0c40b7e9ce1b8c44eef807ce78dfd5cab158088190867370935b63ed7baa713a"
   }
  }
 },
 "nbformat": 4,
 "nbformat_minor": 2
}
